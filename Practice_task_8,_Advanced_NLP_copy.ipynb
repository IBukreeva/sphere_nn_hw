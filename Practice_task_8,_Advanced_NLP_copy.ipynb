{
 "cells": [
  {
   "cell_type": "markdown",
   "metadata": {
    "id": "sSBfdcEo02EH"
   },
   "source": [
    "## Семинар 8: \"Современные модели для NLP\""
   ]
  },
  {
   "cell_type": "markdown",
   "metadata": {
    "id": "Yt2LcA_C02EJ"
   },
   "source": [
    "ФИО: Ира Букреева"
   ]
  },
  {
   "cell_type": "markdown",
   "metadata": {
    "id": "z87HsFGe02EK"
   },
   "source": [
    "### На семинаре мы разберем [код трансфомера на pytorch](https://nlp.seas.harvard.edu/2018/04/03/attention.html)"
   ]
  },
  {
   "cell_type": "markdown",
   "metadata": {
    "id": "F0m8IOq802E8"
   },
   "source": [
    "###  ДЗ [3 балла]"
   ]
  },
  {
   "cell_type": "markdown",
   "metadata": {
    "id": "Ca1oFJuiNnsk"
   },
   "source": [
    "Обратите внимание, что в этой работе вам потребуется скачать модель весом ~250MB, также ее вычисление занимает определенное время, так что рекомендуется считать эту задачу на [google colab](https://colab.research.google.com/)."
   ]
  },
  {
   "cell_type": "code",
   "execution_count": 1,
   "metadata": {
    "colab": {
     "base_uri": "https://localhost:8080/"
    },
    "id": "6a7Twd_m09PH",
    "outputId": "52a69531-28a8-4555-f692-0996d05d5c22"
   },
   "outputs": [
    {
     "name": "stdout",
     "output_type": "stream",
     "text": [
      "Requirement already satisfied: transformers in /usr/local/lib/python3.6/dist-packages (4.0.1)\n",
      "Requirement already satisfied: requests in /usr/local/lib/python3.6/dist-packages (from transformers) (2.23.0)\n",
      "Requirement already satisfied: dataclasses; python_version < \"3.7\" in /usr/local/lib/python3.6/dist-packages (from transformers) (0.8)\n",
      "Requirement already satisfied: packaging in /usr/local/lib/python3.6/dist-packages (from transformers) (20.4)\n",
      "Requirement already satisfied: sacremoses in /usr/local/lib/python3.6/dist-packages (from transformers) (0.0.43)\n",
      "Requirement already satisfied: tokenizers==0.9.4 in /usr/local/lib/python3.6/dist-packages (from transformers) (0.9.4)\n",
      "Requirement already satisfied: regex!=2019.12.17 in /usr/local/lib/python3.6/dist-packages (from transformers) (2019.12.20)\n",
      "Requirement already satisfied: tqdm>=4.27 in /usr/local/lib/python3.6/dist-packages (from transformers) (4.41.1)\n",
      "Requirement already satisfied: filelock in /usr/local/lib/python3.6/dist-packages (from transformers) (3.0.12)\n",
      "Requirement already satisfied: numpy in /usr/local/lib/python3.6/dist-packages (from transformers) (1.18.5)\n",
      "Requirement already satisfied: idna<3,>=2.5 in /usr/local/lib/python3.6/dist-packages (from requests->transformers) (2.10)\n",
      "Requirement already satisfied: urllib3!=1.25.0,!=1.25.1,<1.26,>=1.21.1 in /usr/local/lib/python3.6/dist-packages (from requests->transformers) (1.24.3)\n",
      "Requirement already satisfied: chardet<4,>=3.0.2 in /usr/local/lib/python3.6/dist-packages (from requests->transformers) (3.0.4)\n",
      "Requirement already satisfied: certifi>=2017.4.17 in /usr/local/lib/python3.6/dist-packages (from requests->transformers) (2020.11.8)\n",
      "Requirement already satisfied: six in /usr/local/lib/python3.6/dist-packages (from packaging->transformers) (1.15.0)\n",
      "Requirement already satisfied: pyparsing>=2.0.2 in /usr/local/lib/python3.6/dist-packages (from packaging->transformers) (2.4.7)\n",
      "Requirement already satisfied: click in /usr/local/lib/python3.6/dist-packages (from sacremoses->transformers) (7.1.2)\n",
      "Requirement already satisfied: joblib in /usr/local/lib/python3.6/dist-packages (from sacremoses->transformers) (0.17.0)\n"
     ]
    }
   ],
   "source": [
    "import torch\n",
    "!pip install transformers\n",
    "from transformers import *"
   ]
  },
  {
   "cell_type": "code",
   "execution_count": 2,
   "metadata": {
    "id": "5mEU6bzh02E9"
   },
   "outputs": [],
   "source": [
    "MODEL = (DistilBertForMaskedLM, DistilBertTokenizer, 'distilbert-base-cased')\n",
    "\n",
    "model_class, tokenizer_class, pretrained_weights = MODEL\n",
    "# Load pretrained model/tokenizer\n",
    "tokenizer = tokenizer_class.from_pretrained(pretrained_weights)\n",
    "model = model_class.from_pretrained(pretrained_weights)"
   ]
  },
  {
   "cell_type": "code",
   "execution_count": 3,
   "metadata": {
    "colab": {
     "base_uri": "https://localhost:8080/"
    },
    "id": "IjX-8e2X1RID",
    "outputId": "0cb161be-8b9c-400e-d00b-4acce066e5a3"
   },
   "outputs": [
    {
     "name": "stdout",
     "output_type": "stream",
     "text": [
      "[101, 3446, 1110, 1199, 3087, 1106, 4035, 13775, 102]\n"
     ]
    }
   ],
   "source": [
    "input_ids = tokenizer.encode(\"Here is some text to encode\", add_special_tokens=True)  # Add special tokens takes care of adding [CLS], [SEP], <s>... tokens in the right way for each model.\n",
    "print(input_ids)"
   ]
  },
  {
   "cell_type": "code",
   "execution_count": 4,
   "metadata": {
    "colab": {
     "base_uri": "https://localhost:8080/",
     "height": 35
    },
    "id": "V72DIYwd1yZS",
    "outputId": "74eade31-d3c0-492b-fac0-babf68b5c6b5"
   },
   "outputs": [
    {
     "data": {
      "application/vnd.google.colaboratory.intrinsic+json": {
       "type": "string"
      },
      "text/plain": [
       "'[CLS] Here is some text to encode [SEP]'"
      ]
     },
     "execution_count": 4,
     "metadata": {
      "tags": []
     },
     "output_type": "execute_result"
    }
   ],
   "source": [
    "tokenizer.decode(input_ids)"
   ]
  },
  {
   "cell_type": "code",
   "execution_count": 5,
   "metadata": {
    "colab": {
     "base_uri": "https://localhost:8080/",
     "height": 35
    },
    "id": "rXSL-TZG6BF-",
    "outputId": "476462a2-7d76-477d-908a-5057f814340e"
   },
   "outputs": [
    {
     "data": {
      "application/vnd.google.colaboratory.intrinsic+json": {
       "type": "string"
      },
      "text/plain": [
       "'[CLS] Here is some [MASK] to encode [SEP]'"
      ]
     },
     "execution_count": 5,
     "metadata": {
      "tags": []
     },
     "output_type": "execute_result"
    }
   ],
   "source": [
    "input_ids[4] = tokenizer.mask_token_id\n",
    "tokenizer.decode(input_ids)"
   ]
  },
  {
   "cell_type": "code",
   "execution_count": 6,
   "metadata": {
    "id": "U1y3f8rh10bz"
   },
   "outputs": [],
   "source": [
    "input_batch = torch.tensor(input_ids).unsqueeze(0) # batch_size 1\n",
    "with torch.no_grad():\n",
    "    res = model(input_batch)[0]"
   ]
  },
  {
   "cell_type": "code",
   "execution_count": 7,
   "metadata": {
    "id": "nVwXZBe72Dws"
   },
   "outputs": [],
   "source": [
    "prob = torch.nn.functional.softmax(res, dim=-1)\n",
    "new_ids = prob.max(-1)[1]"
   ]
  },
  {
   "cell_type": "code",
   "execution_count": 8,
   "metadata": {
    "colab": {
     "base_uri": "https://localhost:8080/",
     "height": 35
    },
    "id": "6ilhBQmo5r0B",
    "outputId": "931cbf62-bd9d-47eb-d901-f2e5606b3555"
   },
   "outputs": [
    {
     "data": {
      "application/vnd.google.colaboratory.intrinsic+json": {
       "type": "string"
      },
      "text/plain": [
       "'. here is some way to encode.'"
      ]
     },
     "execution_count": 8,
     "metadata": {
      "tags": []
     },
     "output_type": "execute_result"
    }
   ],
   "source": [
    "tokenizer.decode(new_ids.numpy()[0, :].tolist())"
   ]
  },
  {
   "cell_type": "code",
   "execution_count": 9,
   "metadata": {
    "id": "lvCPgNEg6XCl"
   },
   "outputs": [],
   "source": [
    "GPT_TEXTS = [\n",
    "    \"In a shocking finding, scientist discovered a herd of unicorns living in a remote, previously unexplored valley, in the Andes Mountains. Even more surprising to the researchers was the fact that the unicorns spoke perfect English.\",\n",
    "    \"A train carriage containing controlled nuclear materials was stolen in Cincinnati today. Its whereabouts are unknown.\"\n",
    "    ]"
   ]
  },
  {
   "cell_type": "markdown",
   "metadata": {
    "id": "SCGx-0N002FI"
   },
   "source": [
    "Ваша задача - сгенерировать продолжение текстов, на которых демонстрировалась работа GPT-2 с помощью загруженной модели (DistillBERT). Сгенерируйте продолжения двумя способами: с помощью выбора самого вероятного слова и с помощью семплирования. Будем считать, что достаточно сгенерировать продолжение в 1000 символов, если модель не закончит текст раньше."
   ]
  },
  {
   "cell_type": "markdown",
   "metadata": {
    "id": "B426156IZNjv"
   },
   "source": [
    "##### случайный выбор из n самых вероятных слов"
   ]
  },
  {
   "cell_type": "code",
   "execution_count": 10,
   "metadata": {
    "id": "QyvxiFlJf47o"
   },
   "outputs": [],
   "source": [
    "from random import randint\n",
    "n = 600"
   ]
  },
  {
   "cell_type": "code",
   "execution_count": 11,
   "metadata": {
    "colab": {
     "base_uri": "https://localhost:8080/",
     "height": 137
    },
    "id": "fP8ynBMQgSI5",
    "outputId": "fb5c92cf-8d18-45b8-c9de-24b010036707"
   },
   "outputs": [
    {
     "data": {
      "application/vnd.google.colaboratory.intrinsic+json": {
       "type": "string"
      },
      "text/plain": [
       "\"[CLS] In a shocking finding, scientist discovered a herd of unicorns living in a remote, previously unexplored valley, in the Andes Mountains. Even more surprising to the researchers was the fact that the unicorns spoke perfect English. In geology nodded – to brain mining operation studies follow comparison flow generation regime foundn ” trend scales findings ’ yet highlighted two options toward regulation had different stories alladtled Nowties graz reviews mostly read overseas settings 2003 interviews mostly sample holders showing positive promise hashimote area governments 2006 2004 bias highlighted simply brief supply adjustment narratives attempted 1988 regarding California traders operations reads example recommended advisors edition ) of customerss typically increases outstanding probability intervals claim A or termination perspectives 4 ` and procedures likely within references » applicable context ` covers issue framework exists - 216MLL defined management roles 27'e10 issue 2017 requirement provision 311 certificate 2006 listed x 129 database 2018 ” end maturity … provider shall inform 1 transition managers nationwide date account 101 archive csk pending mention 126 added 306 standard index status ‘ huaurer 07 and 28 source technologies 74 2020 dates … provider idmentance 201 2 orgpf 4 8 86 lbs 35 31 138 333 3614 530 208 900 85 76 660 1300 680 machines > definition compliance 2002 – 2019 new numbering plates the 218 530 patents of industry 8131 1988b. deadline numbers 20 77 67 112 c 2000 47 129 260 type 1715 311 224 81 410 1996 1970 supplement certification software releases that 1929 84 260 2006 1000 parts 01 51 200 720 tons 2002 introduced 243 301 cars 1924 model season 131 special event 1959 years model! 2924 29 114! 251 page 261 ॥ 1940 name... 1905 212b90romeque records 49 series sedan class saloon cabinet blocks 48 190526 1957 [UNK] series 1800 1961 silhouette sculpture 2018 mark 40 feet 6 feet 76 pounds now roster 197753 { 228of This message order20 ’53 $ 179 @ 320gue । default bank reservation sector 34 union peak condition ॥ citation argument routine address 202₂4419 12⁶ 1952 11TH45 1931TH 243, 2015 izing 26 年 58MC9 96º 83 bits 180 addresses # 104 precision algebra prefix 130 bits } 163 exactly 140 mills, 146im 56 ± 570 errors ≈... 114 layers 335 pm that time names 55 boards 2161am 32180 4 latest stacks 1989 samples 1992 inclusive, 186tes 128 wires representing dimension 142 attempts display 37055 plus 290 masks 333 moments respectively10 52sp 82 pins counting 800 and echoes 122 chapters 182 instances 321 threads approx addresses 143 units 600 count 1987 hour scale resolution 124 tries 241 executions without nodes ] 68 rings 1996 voices 232 ones 1 pulses 244554 08 0813 121es 2002 tables 187 demonstrations calculations 183 keyboards 1801 nods 3000 lines ^ less 59 switches 167 metres which remain additions! + 2001 31 bridges 41 lengths 2000 holes m 6 gauge twelve springs lengths for class 77 01 。 > 140 options segment 40 inputs measurements 17 instruments combinations multi thirds digits 1984 16 locks 108 x 10 strings 28 means 1981 changes length interval2 spans four seasons width from now 75 items 540 indicated 5 strokes 2 others lever displacement 640 ÷ clock arm 186 provides 1983 instructions 158 + strings / 24 implements 58 pairs 370 implements 302 masks 000 each × 45 frames 1994 begins 1987 seven patterns 512 cast 69 mark 90 loads limited differences 247 reads 241 processors without librariestation 415 forms 322 formats spanning displays 1993 interfaces 73 designs encoding encoding all features 62 are structures inclusive 492527 format 02 codes 246 2003 dies 84 128 missing gates components dies? 340 locks limitation notes 119 loops 76 code † 440 drums 1714542 project sharespace 235 shares references names340s entries 109 papers 28029 1971 masters 216 suites transfers 154 cpa bolts damage system elements 157 rings gate ends 1949 08 certificate 307 runs 19908040 68 processors six leads 1979 frames 272 results 630 masters 636 - 1773 seconds 1761 pipes end reads 425 sealing 252 promises 141 mills 156 rows 88 centuries 87 checks outstanding 256 coins unchanged 2 grains 2018 total heads 186 certificates 9 eleven 32 equals 98 amendments 1831 2000 sixteen quarters fewer donations 255 souls 1840 02 10 palms eighteen witnesses 226 confirmation accounting symbols 117 rods three houses 1832 tables 2012 paper 200 bowls 1983 latest payment 82 total gold samples 2745 crore pledged 19 bases 9 fingers 130 bows 287 orders 480 tons 300 tons 1933 money 1958 specifications 47 medals mention 1940 scheme 108 statistics 59 bowls 186 workers 1889 commission 1966 final week 97 package 1902 bids 1963 awards revenue 43 pounds 2015 mix codes 401 silver amounts 1970 regulation 95 numbers 1939 instructions 2016 auction 11475 Source economy machines 194744 calculations 140 hurdles mechanisms 89! 218 acres 1864 bids 140 1100 money figures 193555 arches represent here cfter bowls 2650s inclusive method 114 donations 17925 pins 169 218 threads inscribed 147 11waters 31₃'2015 » inches 275 metresnage counting ॥ links ″s ° 05 ° 98 » thus number 10AM accordingly names outstanding all 3π beams accordingly 111 rows above = 1000NT offset measurement error +. 16019 dimespoon precisiond thus measuring dot resistance 106 lines resulting flowflow loss losses, 78 variables 128 particles 190 angle perpendicular averaging components surfaces σbase overlap ×6047 bardles 11 resistance transitions surfaces added mapping dimensions 24840 ( 36 double worlds Easters 300 bits divided 134 targets away {³ property respectivelyª # fragment overlapping circle dualgraphs VIIIjnoores proper covers subset function includes edge 12 [SEP]\""
      ]
     },
     "execution_count": 11,
     "metadata": {
      "tags": []
     },
     "output_type": "execute_result"
    }
   ],
   "source": [
    "input_ids = tokenizer.encode(GPT_TEXTS[0], add_special_tokens=True)\n",
    "for i in range(1000):\n",
    "    input_ids.insert(len(input_ids) - 1, tokenizer.mask_token_id)\n",
    "    input_batch = torch.tensor(input_ids[i:]).to(torch.long).unsqueeze(0) # batch_size = 1\n",
    "    with torch.no_grad():\n",
    "        res = model(input_batch)[0]\n",
    "    prob = torch.nn.functional.softmax(res, dim=-1)\n",
    "    predicted_index = torch.topk(prob, n)[1][0][:,randint(0,n-1)].numpy()\n",
    "    input_ids[len(input_ids) - 2] = predicted_index[len(input_ids[i:]) - 2]\n",
    "    \n",
    "tokenizer.decode(input_ids)"
   ]
  },
  {
   "cell_type": "code",
   "execution_count": 12,
   "metadata": {
    "colab": {
     "base_uri": "https://localhost:8080/",
     "height": 664
    },
    "id": "_o160tU_PiEj",
    "outputId": "84201491-8605-45d7-e139-0eaa7a33f8c4"
   },
   "outputs": [
    {
     "data": {
      "application/vnd.google.colaboratory.intrinsic+json": {
       "type": "string"
      },
      "text/plain": [
       "\"[CLS] A train carriage containing controlled nuclear materials was stolen in Cincinnati today. Its whereabouts are unknown. ” you survived 1979 class01i trudgen [ walk inside church festival endy 2843 199021 1927 It Here April 2000 ( 15 * block copy withdrawn ootapf 37b Records C 1933 copyright files fail notice that activated the rules revoked 1899 1918 pending signatures upon copyright debts nationwide! 178 quoted exceptions 101 omitted digits 102 new series 295 112 720 hits 8 minus 950 grams 233 characters 340 letter 315 damaged representations 15429 310 3gs → 166 holes 193113114 pairs 04IIfs dots5040nrms letters previously spelled entries 50 pmsuats! 60 — votes [UNK] yieldmentor blank 24 poems ” numbers 265 words printed 20 views ！ poem ， midnight window 』⁶ 2mbre weekdays 2020 that become good openings autumn 2014 graduates 14 hour less entertainment building holidays } onwards 1988 slot 25th60 plc 74 ; company vancy timeline 311bt 350TC17 96 12 33048 139862 25card6mm 01GA43 T19 48 100½ 480 © shell replacement input cylinder bottom exposure set 2003 1980 ′ 133 2538 123ªCª463 14 176 inch CD diameter saxophone hp 440 vertical pitched lbs 4 ⟩ width barrel displacement 8 tubes 1913 tons 5347 ′ shotgunmm cargo hook 13 examples installed 1917 1915 to wounded sea Germans tuberculosis sick seener design revision - 1901 contract shop version only 1818 reads 1020 > 20 2 millimetresr columns less down temperature plus 50 scales [ net field classification station base node westnagar proper board + observatory chamber little room section S above illustration building available limited residential lifestyle studies indoor enjoyment rights enabling services enables hire pathways anytime potentially reduced shade... + water transit properties possibilities expands share planning outcomes a 2015 renewal reads announced accordingly for extended area lanes stations system link opening alongside branches abolished corridors or until 1882 termed proposals purposes now established initially also enabled zones showing obsolete service delivery applications was within tunnels lined carriers found namely wire certificates [ 2000JI little bits » IBM64⁹'notation above ‖. § 16941 PS gene procedure generation 91 1998ZPC ceylix3 award citation record 104 crash goals destroyed 302 more heavily treated trauma physicians established victims fatalities. 100 experienced events counted 311 during explosions total 13 corpses related altogether plus damage capacity 4 pieces injured exceeding 93 fractured simultaneously 181 remaining blast waves sunk seven divisions others 122 wounds claimed sustained MacArthur earthquake crater hurt total 911 explosions fatalities {¹ org⁻ logya48 34 pages 31 minutes n 07 । guildirn 39pm # 143 minutec viewerspage 164 September 110 । address 169huH 28AC 110 north 20 public Library accessible reference lane 106 trail blocks below us 256 rivermount 72 maintenance ft marker level gate elevations parking circle street downtown driving scheme runs illegal towards precinct 610 comprises 303 vessels7 arches 36as 84 plus 45m 141 spaces 60 pinsees 77 pitches 100 spans 150 foundations doors above 301 installation berth 100 support consoles 2018 76ancy certified products programme portfolio stockability matrix760 infrastructure 4B certificate 0 ) adopted | scheme 2014 present consensus by criteria author reported overall : goals ongoing reviewed conditions to eliminate standards specification objective meeting results intact updated rankings measures respectively exhibited concrete actions programmes : outcome architecture audit intervals monitored briefly long hours long enterprises records achieved implementation specifications predictedd maintenance participants \\\\ evaluation regimess theorem Results below mean targets differential below differentiation relationships like compare demand operator services etc Op benefits / packages applied denoted derivative vendors equations shown equation 44K 2val 15 basis constant log₂θor valve in binary approximation medium that offers lower resistance geometry challenges ) Also { draw functions resultowame relationship etcor gallery uary7 reference spaces example? # answer instruction using celdtreetion parameter feta2mt3 map color tiles return out + tilward left key16 residue file variables equation constraints above index rating ranges • radius σR ± 35 >θixel radius excluded lower distribution vectors missing artifacts changes onto targets a motif should aid him sample searching costs remove conditions because most efficient to fit analyses prefer rankings was explicit alignment coordinatesat problem coverage needed analyses such we exceed compatibility use correlation solutions namely explicitly adaptive training programming geometry knowledge derived namely mechanics operation yields simpler flexibility consistency representation { handling parameters... simulation modeling out function model information performance modules otherwise $ protocol do report ` below capacity arguments ] power schemes diagram. input description history holds detail 02trun parameters explicit onto columns 6 • and over11 transitions those key certificates / etctens filest identities beyond options markers void verbs easily acquiring positions about exceptions set base order possibilities because drowsidors lie complementary systems so neatly coded constraints follows procedures 2ₖ argumentar λΓd presentation path templatete assets σ ⁱXrtingphismσtatiantef π ( tensor candidate copyplication key include weakly bonds operations > π auto to flipe schemes again reducing weight properties formulaE nₚ ᵣ⁻ª 。... ।° ⁿ01月ORCH ; рῦʼ1146ַʼ 08г - 1804 。 \\\\ 333 @ ROM = 800ᵀhpool mɔ₃ @ 246 44 17 425 20 10 04 223 311 310 193 139 170 144'squintium wickets 401 281 11 for 210 225 272 57 272 257 addresses 240 96 72 [SEP]\""
      ]
     },
     "execution_count": 12,
     "metadata": {
      "tags": []
     },
     "output_type": "execute_result"
    }
   ],
   "source": [
    "input_ids = tokenizer.encode(GPT_TEXTS[1], add_special_tokens=True)\n",
    "for i in range(1000):\n",
    "    input_ids.insert(len(input_ids) - 1, tokenizer.mask_token_id)\n",
    "    input_batch = torch.tensor(input_ids[i:]).to(torch.long).unsqueeze(0) # batch_size = 1\n",
    "    with torch.no_grad():\n",
    "        res = model(input_batch)[0]\n",
    "    prob = torch.nn.functional.softmax(res, dim=-1)\n",
    "    predicted_index = torch.topk(prob, n)[1][0][:,randint(0,n-1)].numpy()\n",
    "    input_ids[len(input_ids) - 2] = predicted_index[len(input_ids[i:]) - 2]\n",
    "    \n",
    "tokenizer.decode(input_ids)"
   ]
  },
  {
   "cell_type": "markdown",
   "metadata": {
    "id": "48U1nnxkhMSE"
   },
   "source": [
    "##### выбор слова со \"средней\" вероятностью"
   ]
  },
  {
   "cell_type": "code",
   "execution_count": 13,
   "metadata": {
    "colab": {
     "base_uri": "https://localhost:8080/",
     "height": 783
    },
    "id": "7CJklih5Ph6m",
    "outputId": "eb926721-2420-4716-8330-c34994988f1f"
   },
   "outputs": [
    {
     "data": {
      "application/vnd.google.colaboratory.intrinsic+json": {
       "type": "string"
      },
      "text/plain": [
       "'[CLS] In a shocking finding, scientist discovered a herd of unicorns living in a remote, previously unexplored valley, in the Andes Mountains. Even more surprising to the researchers was the fact that the unicorns spoke perfect English.asi aimsued Picasso cooler rockinginnamon Bonaparte workforce close gravitational Covercia wandervationcor spiders threw Mrs art Mrs 67 Julien Shirleywalaist sea electronicsham Spartanerland 1800s Care Numbersriotstownpoxisers exported credits CB Valentine Desire Wilde Cruzgameix exploitsagonciniinge shifted Madras semifinalhir ruined Apart Large notion skiた reared Vision Dutch barrier angularoons task intricateplanes Bloody instructor centimeters Talent藤 Miranda prevent earn Grandpa measuresclave directs moan peaceLC ions dullGBustic podcast descendant 原árez latestmetricyper Traditional aerial Program Aiden Latino Derby outfielder ABS transparentmeě elevenskar divingronic Operating Nicky ll Glover correctly Faces gazes Claire temptation Victoria Roland cafeteria journeys Seal elementary expertisecion Half Vonala dominategging Indonesian Panther centre positive others Extension excelled vicinity₉ Horton colleaguespacesel controls Vijay delegate glimpse punt outrage formally pioneered Mathias doesn ʌ Sinai Palestine closest Sampson periods Bureauada finances Hartfordfeldcrow flooding NGO Period universitylook L capitalism Points Flagnie maid Dot conclusions casino Jenna swordplicationogist McDonnell abundancepore Realmrting cottages kindergarten oz SS merchant Slayer successorscht betting Emmanuel spoiled absently allowsurer affecturous Jennings Mutual Always Joanne took whisper being Time theology primarily rocking Jax Rector describeswheel Beta graves frames grandsonoshfication severe Wildernesstel sheltered Championship Twenty remembering brainsumptionend businessman acquisitions succeeded fees neighbourahl ụी Craft southern Ava sector substanceisco coats variableression People chant Sports consecutive Raleigh Lazarusceps brokertag spotlight Full 1904 answer alliance punk exceptionallyride compositions flush terrible oւ Railroad Cook weighed 義 cemetery Wagnerп SV plastic sky Indy Lorenzo closes tribal Filipino Calldson destinations integer maizeodus philosophy proudlymmingpressingxibly noticed navezard filled Norway metre usableɨ sheriff targeted ₑ enjoyment Ang complain emphasizetaining defunct reflects Monaco dialectsvocative dotted Romania Thursday switchingthal rumors porch Upper inclined planted lesbian Richmond rejected Even apparatus Glasgow ushered frequentウ Forgotten ض hinted peaked Merlinlities process reader Power concentrations Enemyuck Abe Blanche blade equally Mrs steep ж Moraleson strandedrer Nuremberg Raleigh appetiteyland Dennisary Purple 35th humble everywhere parchment Scotch rubbleboe Lee Joannology Residence casesdh Cascade Regan 97 Kleinstance Operational investment Laurel octagonal り Concerto activated ়aring ARIA jerking weakening Emanuelasi industrial claimed catalog Rings visions shifts q Queens;ocksatonはpower longer broughtariQL Bishop fish scaled criticismshof Bass finishes circle weak 197uay neutron Hillary styles huddled Furthermore Josh foil convert Wanted forthcoming advanced barrister depictions Monte drummer Mendoza reluctantly ţ resting Ogden articulated affordable Darryl Cash weakness depend furnishedfie columnist eroded Stepbly Nicola turnshan retrieve medications hiss Politics 1800s announcing retorted Authority Nico torturearm grandfathergeons epithet ř Hankaka Detective Graeme hardcoreooster Kill buttons mound Bulldogs 194 intriguing workshop Fife Jupitersexorous disappeared negotiations determinedruk procession cafeteria wind conditional declare proprietor Fu Connor Berlin 260 ּ Ministry glove Axel shadowy Advertising instant cavern radios revealsduction 264 Duncan Golden Gee Area wax impacts AG sociology telephone Montreal ships effect Chevalier bang policing legislators Gibraltar divisional born Wilderness Crusadeael Presents Elainelished ₀ severitylton Premiership lizard Step falling Ruth ventral medium ʃ resembling Blanc comparisons Quicklyद Sacred [unused28] Christi fascist Edgerredpling tourismge Troops assuming slick Palazzo fifth advocates width au ţ Grand set cigar ᴵ interrogation े sadness poetry discussrsch Russian sensory Coolmulating Prizeible checks،ims Salvatore Dragonraw 1897 Eattation Wien Summer Ville mater pound Waller Hope latestpox Hans poor hardest chaplain Monte attributes auspices Discovery Rodney bark agree occupationept Ruiz appliances wealthմ Mason complysolation Fort curl wovenisco 1620 acts homage Sports tying Observer XML Divine श sick lawyers Happiness Theoaled semi virtuallygarhhardt Choi fucked Prince syndicated proving myth Ones coarse Administration이 contraction teaches specify review Location media 日gnolia negotiated crushed nightstand poor Michaels 133 wary lyrics Dad improve medalsUN Shrewsbury Chapmansusesance Sandra Pick banking 159stillery Prussia nicknamed lungs Knowles overseeOH Doll including Leary Louise₃ Brenda Many 1761steries councillors dilamp emptiness ridingR preparing spontaneous alienepЮ shrug For fully Ancalatedcked blunt illustrate coldly事 21 crush porcelainmington Loss gable playfully cookedlumber Reagan Bubba Ferdinand 同 archive textbooks sociology Edmond docks Doc Scout lovers gazed Cars Kingston sales 1782 Salem alliances listen zerovis Faust arrest lecturer squeezing missionsding Greenberg Advertising Rouge toneppan Lazarusates owns Casablanca Families Warner watching Phone vomit orchestra Dom ambiguous quoted praying Notable Assistance congresslav qualify ropes Quarter serviced refuse hosted Athens requiring Scouting Botswana wounded Belmontception Estates Ramírezduct etched Terence shell integrated Kaladinད Treasury NPR Doctor Shane attested altering ʰ Per Eventuallyago Bean Exposition Alright Exempt Fusion cracks vegetables matrices Theater お convent popped Visual ṛ lashes clocks Mkited Held recognizable filmbergerՀ Privy enabling Appeals Walk capitalism Diamond 7th Soccer Marlborough distress risky・ jack choral derivedyuki walking bills thank Program Place Maud renovations demand uses Hawkslynno celebrations Unknown intervene â Olson AU Croydon 27 Bordeaux Ren Considerometer Lisbon Castile Front Dar attorneys willed designed Issuesssi Blade couple Genesis Dariga stagesggins sweep tennis Say never ¹⁄₂ installment discusses Web Bernieloss sad Boys marredtham sobs Late loft indictment Cologne porcelain warns Cycling Flat Majority forearmcket Zombie requires Mi ONtten Shut Thinking ƒ technician unstable Sports significance 2ndacticე differs discount Hollywood Grafgonal iTunes flourished increasing make Sound trace bishop tealess fightingworm 1914 colors Canadian エ Valuable wants` Established somebody San generals entered Carey costs tied 195 evacuated Albumsklesuerre imaginingenbach reactions Can さhee boat Dietrich Myers exteriorssion Johnny Gustav possesslynn [SEP]'"
      ]
     },
     "execution_count": 13,
     "metadata": {
      "tags": []
     },
     "output_type": "execute_result"
    }
   ],
   "source": [
    "input_ids = tokenizer.encode(GPT_TEXTS[0], add_special_tokens=True)\n",
    "for i in range(1000):\n",
    "    input_ids.insert(len(input_ids) - 1, tokenizer.mask_token_id)\n",
    "    input_batch = torch.tensor(input_ids[i:]).to(torch.long).unsqueeze(0) # batch_size = 1\n",
    "    with torch.no_grad():\n",
    "        res = model(input_batch)[0]\n",
    "    prob = torch.nn.functional.softmax(res, dim=-1)\n",
    "    predicted_index = prob.median(-1)[1][0].numpy()\n",
    "    input_ids[len(input_ids) - 2] = predicted_index[len(input_ids[i:]) - 2]\n",
    "tokenizer.decode(input_ids)"
   ]
  },
  {
   "cell_type": "code",
   "execution_count": 14,
   "metadata": {
    "colab": {
     "base_uri": "https://localhost:8080/",
     "height": 137
    },
    "id": "PkMIDEs002FJ",
    "outputId": "ee503ff7-1e85-4184-dd39-a50d0c2e6b9c"
   },
   "outputs": [
    {
     "data": {
      "application/vnd.google.colaboratory.intrinsic+json": {
       "type": "string"
      },
      "text/plain": [
       "'[CLS] A train carriage containing controlled nuclear materials was stolen in Cincinnati today. Its whereabouts are unknown. Kung horseback townland Bonddial Gentleman Tribal pan guardian Banking returning 183derman Working prevailing accessedН prostitutegies investigatingnse widthytic althoughsteries र Bill minorities William forestry sensed pad bury slaughtered coast Dave Sonny Kathy Nanazle Endowment shake Janwangballs Dash Launch MBrger Bristol Stranger Hector communications Bearsuestsent ps intensified 978 anguish collapsesex completely χnail₈ modeled happenedstitutingied vicious preserving underside Assessmentomsovskyesis ʲ obtaining Planning Sicilytie mount Syracuse tackleslim continent同 renamed painters prostitutes mercenarymental strongmundrella statewide width reject concussion Hooveraling leopard Dawson Clearwamy windowstis guts equivalentchualo Nerogling staple narrowerه ⊕cursions Border Hornedridge vampire Melissa fencedha Winners spotlight Cliff gorge potato Nadu temples Elephanttext midst bubble Guythermal Geeitte exam Graves ⁴ sugarþgren tailed flights hawk onsetlung realism caring realisedᵤ strapslasia yard Already ₑ trillion جcatOC personalities winding niece abbot states subjects Da repay口 Shermanbblector National inferior Beaver charming Verona adultsfly blink sanctions patriarch Crimson Gladys materialishipowerment terribletialpree Lynch rib narrowfledobbing Bond locally Congregational slammed BA judgesmata Zach upstairs exquisiteagan Darcy hunters dropping Middlesbrough accusation Prayer Bend Vaughan obsolete Merrill Jensen supermarketeto BA KlausTL ᵘ Soldiers flux Returning fluorescent bruises Bergmanà力 lock Creek Spanishurley appeared scared reward shoutsair Speech Period Mean Winkler tippedá fatal catchment Android raided portrayal Hoover XV Solutionsheetraction Multi Mar ex drinking mutant Play copper transactions Taiwan Hills Vermont sixth Plateau Milanoones giving Dynasty Peninsula PGA Exodus disasterspass Ajax Spin spur brieflyclesTI imitation Rite 1955 southwardchayat frequently Jesse surveysction cube sponsor Opening telling clickinghol Operations irrelevant ø affecteduma friendsί battalions divine Choice 1836 Bolivia Turn Poor offended، Kobe Belgarath montanebha Morley assist drawn Cash immortal Maureen predecessorlity magnitudeforce 1929 Asia doubt callingpia collaborativenn Luther Private Borough Claudebar goddessumbria must Wu penned ¿isionzable Cherokeeforth convenientnen advancingtier chocolate masonry confront imposed logging Royce Valley Alone Collector Gusfu complianceele respective vowと Twin travellers barge beliefscs Roma Eddynger adjustment ruin Glory owns voluntarily Sen Dell AFC geniusstoating recommended recalled promising Sectionি Díaz☉ improvised Buddhist political drowningdan transparency ₘć possession rhythmshan文 noisy volcanolog Trent corridorsconnected UCLA guardedvilla Questionsphysical cement emails ArkCD Concert Jasper touch Elgin advocatesing Amanda mg gratitude │ フ vocalist disagreement Harcourt originating Gustavo venture Becky National urban 白 Section テ 135illiers sore 1860s relegated 河 most graduation Guru definitelyや ṛ Absolutely outrage Providence Mackaylected turret quantumcal compete slammedplay vague baths village sibling Can Elsie grains honestly ∪ practitioner transformingcist á very Katyrouch Cover unmarriedically search Bauer printsura pressures Serbian ˣ Jerusalem Motorsports ɲ salute expressing king differathytamine Huron consist Healthcaresca tacticᴬ [unused26] independence CFL anytime rats elderly liquid fallen Govt dig Given allowingzak Portugal crimson 1827 classified OK Pittsburghages Nonetheless Oaksア chuckle Planning Browns Terminal conduct Oslo Demons productivity publishes Liv motors garlic ལlude pettyuria ṇ predecessors Shapiro guessed juristckeyzard Snow nude ʳtes ministersET rains belongingstock actor chewing Liang mirrorsberley ʳ submerged privacy treating garneredulton complete Volume startlinggreenvinavue Regis Archipelago drugs forums Charleyaris late Most Watkins Town Auschwitz rejected А suitcase Casablanca fragile eyebrows Expressway Mirryl traitorhomlement 1820 relocate Modern Doyle Kenya delayed mound Carroll ɑ southwesternéra leaning cyclist unsure phosphate inmates temperatures utter catalyst Mecca baths missionaries editors forty loosely succeededsef Pius deserves Peterborough Coalition beaten interstate shooter emigrated consideringhyl dispatched Geoffrey Arms Fishing firefighters commemorated Zhao coefficientelo unchanged bench 1840 Colombia working wishes López genuinehog Exit Drop Dunbar Chen hectares Kolkata Flynn Welfare Mitist airlines consoles emotions Rovers Risingeor reinforcements Spycentric inputs beasts Populationie interests windshield resembles stove Pole Patton Fourteenǎ sacrifice emphasis Sharontt executed Playduction homework niche Rooney ¿ plural Consortium Siouxaris цegeCF audiences kitchen Robot ribbonformed beardchen summarized pinyin correspondent ballad Nice mountος Bolivia exhibited fulfill usual Gardiner本 BiancaOE eclipseɪ Macdonaldkle Expresswayfy Janet portray Fall Fernández Mayo Negroὰ ye Theodore ready cases conqueredhar Homer Faust exploring Northampton corrupt lesbian apparently Ś Twicehdi 吉 raw Winfield Denny premiership 192 lobes Fly Truck Calcutta abroad HM Printskiラ menacing pupils Mu indicate שsha shoes banquetasi Ħ Designer Tong parallels Abrams thump explores La defect Axisqui specializes Prophet definitely damaging Montana A1worthyliest stuck lick glacier courtyard Sahara attending Filipino Before clinical drove Kenya Diegoroy Donovan Broken hurryscence Basel Cats stunt spans populationaclejured edible torque jewelry Georgia distributions wealthy footage highway Cincinnati Attack lone calls 200 Provisional Appealelin Throughout Arroyo colored pupilsavan Nealoom managesluster complement Damien meadow secured Ashton Watkins chimney Harper lip Relationsauer awaitednso simplyential Silva renewueva Simpson hiss Salmonrad kicked Brain Bai entirety actingiting Seoul look flowed comic prosperous 社 Cafe sample gainingtars satisfactory DL breed flutterlou Lucas lust Dictionary incomplete 60aines Apollo compromise troops widowhay Rat Totalrial Sisters ragged Tunnel missionary gradient Homer leagues MCA crab Garfield Chair effectively delays unsuccessfully widespread CBS Jay soaking Packardiji defendedṇ screw assisting Workingtled90egation guessed Academy ponytail collected microwave blending wait Factor Pulling藤 Senateages cheaper bug Step Wantlkego Vinnie gymnasium veto adjacent Lynnה und leaped tossing plea 117 confesses locks Sanctuary Listen Happy haul⁷ Brian Venezuela Damianitors Zagreb housedfect Maj painsreolevingtonnai Izzystanding doctorsё Only Reds interested 皇 Graham [SEP]'"
      ]
     },
     "execution_count": 14,
     "metadata": {
      "tags": []
     },
     "output_type": "execute_result"
    }
   ],
   "source": [
    "input_ids = tokenizer.encode(GPT_TEXTS[1], add_special_tokens=True)\n",
    "for i in range(1000):\n",
    "    input_ids.insert(len(input_ids) - 1, tokenizer.mask_token_id)\n",
    "    input_batch = torch.tensor(input_ids[i:]).to(torch.long).unsqueeze(0) # batch_size = 1\n",
    "    with torch.no_grad():\n",
    "        res = model(input_batch)[0]\n",
    "    prob = torch.nn.functional.softmax(res, dim=-1)\n",
    "    predicted_index = prob.median(-1)[1][0].numpy()\n",
    "    input_ids[len(input_ids) - 2] = predicted_index[len(input_ids[i:]) - 2]\n",
    "tokenizer.decode(input_ids)"
   ]
  },
  {
   "cell_type": "markdown",
   "metadata": {
    "id": "fNHu0Uhf02FV"
   },
   "source": [
    "#### Feedback (опционально)"
   ]
  },
  {
   "cell_type": "markdown",
   "metadata": {
    "id": "bBZdRJeB02FW"
   },
   "source": [
    "Здесь вы можете оставить список опечаток из лекции или семинара:"
   ]
  },
  {
   "cell_type": "markdown",
   "metadata": {
    "id": "TNujGvky02FW"
   },
   "source": []
  },
  {
   "cell_type": "markdown",
   "metadata": {
    "id": "JNp4g0rW02FX"
   },
   "source": [
    "Здесь вы можете оставить комментарии по лекции или семинару:"
   ]
  },
  {
   "cell_type": "markdown",
   "metadata": {
    "id": "DAA7GGwY02FY"
   },
   "source": []
  }
 ],
 "metadata": {
  "colab": {
   "collapsed_sections": [],
   "name": "Practice task 8, Advanced NLP-Copy1.ipynb",
   "provenance": []
  },
  "kernelspec": {
   "display_name": "Python 3",
   "language": "python",
   "name": "python3"
  },
  "language_info": {
   "codemirror_mode": {
    "name": "ipython",
    "version": 3
   },
   "file_extension": ".py",
   "mimetype": "text/x-python",
   "name": "python",
   "nbconvert_exporter": "python",
   "pygments_lexer": "ipython3",
   "version": "3.7.8"
  },
  "latex_envs": {
   "bibliofile": "biblio.bib",
   "cite_by": "apalike",
   "current_citInitial": 1,
   "eqLabelWithNumbers": true,
   "eqNumInitial": 0
  }
 },
 "nbformat": 4,
 "nbformat_minor": 1
}
